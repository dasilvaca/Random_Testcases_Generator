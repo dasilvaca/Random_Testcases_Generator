{
 "cells": [
  {
   "cell_type": "markdown",
   "metadata": {},
   "source": [
    "# Project Explanation and Documentation **\"The Input Generator Inator\"**"
   ]
  },
  {
   "cell_type": "markdown",
   "metadata": {},
   "source": [
    "## Authors:\n",
    "* [Ceballos Aguilar Laura Valentina](https://github.com/lceballosa1) \n",
    "* [Díaz Medina Cesar Esteban](https://github.com/Cesardiaz18)\n",
    "* [Silva Capera Daniel Santiago](https://github.com/dasilvaca)"
   ]
  },
  {
   "cell_type": "markdown",
   "metadata": {},
   "source": [
    "## **Introduction**\n",
    "\n",
    "### **Motivation and Justification**\n",
    "\n",
    "Nowadays, in some ocassions, with problems of different types on competitive programming and in academic environments, when some test cases are available, or a kind of specific testcase type is given, instead of solving the problem in the way it must have to, sometimes it's hardcoded. This could happen more often when all the testcases are shown. Sometimes, there's a penalty when is done, but, the real problem is that the problem is not really solved, and sometimes this is not even noticed. For sure, the real purpose of the problem is to learn, not just give some expected outputs. That's why this project implementation is important.\n",
    "\n",
    "### **Related works and Background**\n",
    "\n",
    "In not implemented solution, like in software production, there are used some random input generators, but are not really helpful, because, there are not compared to actual expected outputs given, but are not generated randomly with some frequence, also with some few cases at the output, some that the tester thinks could be border cases. In this environment it's not expected that the coder learns, the only need here is to avoid some possible production bugs.\n",
    "\n",
    "This is an [example and explanation](https://damorimrg.github.io/practical_testing_book/testgeneration/random.html) of randomized testing nowadays capabilities.\n",
    "\n",
    "## **Objective**\n",
    "\n",
    "This project born in order to avoid *hardcoding* the data in the code when someone (like students or program competitors) submit solutions in contests and related evaluative code tasks. The idea is to request to the problem submitter to provide the expected input data format and possible values,through the use of a Language for Specific Purposes (LSP) where the user will code the specific requirements for the input taking into account the logic of the program that will be evaluated.\n",
    "\n",
    "The language will be able to request the type of data input that could be generated with some more specifications like logic conditions, data lenght (min and max) and some more specifications depending on the type or types of data inputs to generate.\n",
    "\n",
    "Then, a posible inputs will be generated and provided to user for their use in *hardcoded* test cases in order to avoid this practice. \n",
    "\n",
    "## **Approach**\n",
    "\n",
    "In order to create the language, we took into account the specifications provided by programming judges in programming problems. In general, this judges provide the range and data type of input variables and the amount of test cases to evaluate. We used this data to create a language capable of create random inputs but with a improvement for the developer that allows to and some logic conditions in order to earn more accuracy in generated inputs and depending on data type (integer, float, character, string, list).\n",
    "\n",
    "The languaje will be able to read the code based on a previos defined grammar and will generate the random input cases that user request.\n",
    "\n",
    "## **Implemetation**\n",
    "\n",
    "For language creation, first of all we create the classes and methods to provide random input based on a data type and some conditions and then we created a specific grammar to catch what user wants and implement it in predefined methods. This was made using Xtext and thus allows to user to look errors in gramatic before and allows to show sugestions in order to create de random test cases.\n",
    "\n",
    "All the language was deploy in python3.We used classes to define each data type generator and the method to generate random input.  \n",
    "\n",
    "Integers and Float, generator will request range of number and logic condition. In case of float format can be provided.\n",
    "By default, the generator will have a condition equals to *true*.\n",
    "\n",
    "Character generator will request range of number character defined by ASCII table. By default, generator will take only upper and lower english letters and condition will be *true* as well.\n",
    "\n",
    "For case of string input generator the user can specify some conditions like random string with characters and/or with numbers, random string with a previos declared word set and a random string with a previos declared set and with characters and/or with numbers.\n",
    "\n",
    "In this order, the language must have to do the following:\n",
    "\n",
    "- Read code and interpret what user wants given a grammar and create a possible input given the specification of user.\n",
    "\n"
   ]
  },
  {
   "cell_type": "markdown",
   "metadata": {},
   "source": [
    "### **Test and validation**\n",
    "\n",
    "To run the project, user has to use the project allocated in zip file called *proyecto eclipse platform*. The user can go to "
   ]
  },
  {
   "cell_type": "markdown",
   "metadata": {},
   "source": [
    "### **Conclutions**\n",
    "\n",
    "\n",
    "*  This language turned out to be a good tool to create faster input test cases just giving some logic code and avoiding judges the hard word to type each input.\n",
    "\n",
    "* The lenguage can improve adding some more data types and even adding to accepted more conditions.\n",
    "\n",
    "* The lenguage can be used for detect *hardcoding* in submitions if it applies a fuctionality to run and test programmer's code with generated inputs and compare the output with the correct answer provided by the correct code of judge."
   ]
  },
  {
   "cell_type": "markdown",
   "metadata": {},
   "source": [
    "### **References**"
   ]
  },
  {
   "cell_type": "code",
   "execution_count": null,
   "metadata": {},
   "outputs": [],
   "source": []
  }
 ],
 "metadata": {
  "kernelspec": {
   "display_name": "Python 3.10.8 64-bit (microsoft store)",
   "language": "python",
   "name": "python3"
  },
  "language_info": {
   "name": "python",
   "version": "3.10.8"
  },
  "orig_nbformat": 4,
  "vscode": {
   "interpreter": {
    "hash": "eac724a25a4a920b3bf25d1206f5a8c3f75e42d6db81fef33ec35c3609a047d4"
   }
  }
 },
 "nbformat": 4,
 "nbformat_minor": 2
}
